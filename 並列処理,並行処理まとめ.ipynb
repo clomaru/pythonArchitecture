{
 "cells": [
  {
   "cell_type": "markdown",
   "metadata": {
    "toc": true
   },
   "source": [
    "<h1>Table of Contents<span class=\"tocSkip\"></span></h1>\n",
    "<div class=\"toc\"><ul class=\"toc-item\"><li><span><a href=\"#概要\" data-toc-modified-id=\"概要-1\"><span class=\"toc-item-num\">1&nbsp;&nbsp;</span>概要</a></span><ul class=\"toc-item\"><li><span><a href=\"#並行処理と並列処理の違い\" data-toc-modified-id=\"並行処理と並列処理の違い-1.1\"><span class=\"toc-item-num\">1.1&nbsp;&nbsp;</span>並行処理と並列処理の違い</a></span><ul class=\"toc-item\"><li><span><a href=\"#並行(Concurrent)\" data-toc-modified-id=\"並行(Concurrent)-1.1.1\"><span class=\"toc-item-num\">1.1.1&nbsp;&nbsp;</span>並行(Concurrent)</a></span></li><li><span><a href=\"#並列(Parallel)\" data-toc-modified-id=\"並列(Parallel)-1.1.2\"><span class=\"toc-item-num\">1.1.2&nbsp;&nbsp;</span>並列(Parallel)</a></span></li></ul></li><li><span><a href=\"#GILとは\" data-toc-modified-id=\"GILとは-1.2\"><span class=\"toc-item-num\">1.2&nbsp;&nbsp;</span>GILとは</a></span></li></ul></li><li><span><a href=\"#Theading\" data-toc-modified-id=\"Theading-2\"><span class=\"toc-item-num\">2&nbsp;&nbsp;</span>Theading</a></span></li><li><span><a href=\"#multiprocessing\" data-toc-modified-id=\"multiprocessing-3\"><span class=\"toc-item-num\">3&nbsp;&nbsp;</span>multiprocessing</a></span></li><li><span><a href=\"#concurrent.futures\" data-toc-modified-id=\"concurrent.futures-4\"><span class=\"toc-item-num\">4&nbsp;&nbsp;</span>concurrent.futures</a></span><ul class=\"toc-item\"><li><ul class=\"toc-item\"><li><ul class=\"toc-item\"><li><span><a href=\"#max_workers\" data-toc-modified-id=\"max_workers-4.0.0.1\"><span class=\"toc-item-num\">4.0.0.1&nbsp;&nbsp;</span>max_workers</a></span></li></ul></li></ul></li><li><span><a href=\"#ThreadPoolExecutor\" data-toc-modified-id=\"ThreadPoolExecutor-4.1\"><span class=\"toc-item-num\">4.1&nbsp;&nbsp;</span>ThreadPoolExecutor</a></span></li><li><span><a href=\"#ProcessPoolExecutor\" data-toc-modified-id=\"ProcessPoolExecutor-4.2\"><span class=\"toc-item-num\">4.2&nbsp;&nbsp;</span>ProcessPoolExecutor</a></span><ul class=\"toc-item\"><li><span><a href=\"#注意点\" data-toc-modified-id=\"注意点-4.2.1\"><span class=\"toc-item-num\">4.2.1&nbsp;&nbsp;</span>注意点</a></span></li></ul></li></ul></li><li><span><a href=\"#AsyncIO\" data-toc-modified-id=\"AsyncIO-5\"><span class=\"toc-item-num\">5&nbsp;&nbsp;</span>AsyncIO</a></span></li><li><span><a href=\"#subprocess\" data-toc-modified-id=\"subprocess-6\"><span class=\"toc-item-num\">6&nbsp;&nbsp;</span>subprocess</a></span><ul class=\"toc-item\"><li><span><a href=\"#参考\" data-toc-modified-id=\"参考-6.1\"><span class=\"toc-item-num\">6.1&nbsp;&nbsp;</span>参考</a></span></li></ul></li><li><span><a href=\"#Queue\" data-toc-modified-id=\"Queue-7\"><span class=\"toc-item-num\">7&nbsp;&nbsp;</span>Queue</a></span></li><li><span><a href=\"#わからんこと\" data-toc-modified-id=\"わからんこと-8\"><span class=\"toc-item-num\">8&nbsp;&nbsp;</span>わからんこと</a></span></li><li><span><a href=\"#参考\" data-toc-modified-id=\"参考-9\"><span class=\"toc-item-num\">9&nbsp;&nbsp;</span>参考</a></span></li></ul></div>"
   ]
  },
  {
   "cell_type": "markdown",
   "metadata": {},
   "source": [
    "# 概要\n",
    "\n",
    "## 並行処理と並列処理の違い\n",
    "\n",
    "### 並行(Concurrent)\n",
    "見かけ上同時\n",
    "\n",
    "### 並列(Parallel)\n",
    "物理的に異なるもので実行するのでマジで同時"
   ]
  },
  {
   "cell_type": "markdown",
   "metadata": {},
   "source": [
    "## GILとは\n",
    "\n",
    "PythonはGILなので、Pythonのバイトコードを一度に1スレッドしか行わない。<br>\n",
    "\n",
    "普通に使っていると1つだけ走っているPythonプロセスは複数のCPUコアを同時に使えない。<br>\n",
    "けど、以下のようなモジュールなどを使うことでこの問題を乗り越えることができる。<br>\n",
    "\n",
    "そうすると、一つのスレッドがネットワークからの応答を待っている間、ブロッキング型のI/O関数がGILを解除することで他のスレッドを実行することができる。\n",
    "\n",
    "\n"
   ]
  },
  {
   "cell_type": "markdown",
   "metadata": {},
   "source": [
    "# Theading\n",
    "\n",
    "複数の関数を同時に動かせる。</br>\n",
    "一つのCPUで実行。"
   ]
  },
  {
   "cell_type": "markdown",
   "metadata": {},
   "source": [
    "# multiprocessing\n",
    "\n",
    "複数CPUコアを活用し、インタプリタを子プロセスとして並列に実行する<br>\n",
    "子プロセスは、メインのインタプリタとは別になっているのでGILも別になっている<br>\n",
    "effective python p.146(これconcurrent.futuresとどっちの説明？)\n",
    "\n",
    "\n",
    "\n",
    "### 向いているタスク\n",
    "「分離した、レバレッジの高いタスクに向いていてる」\n",
    "逆にこのような特性がない場合は、multiproseccingのオーバーヘッドは、並列性による速度向上をもたらさない。\n",
    "#### 分離\n",
    "→プログラムの他の部分と状態を共有する必要がない\n",
    "#### レバレッジが高い\n",
    "少量のデータだけを親と子のプロセス間でやりとりするだけで、大量の計算ができるということ\n",
    "\n"
   ]
  },
  {
   "cell_type": "markdown",
   "metadata": {},
   "source": [
    "# concurrent.futures\n",
    "\n",
    "真の並列処理。GILを無視できる。\n",
    "\n",
    "\n",
    "複数CPUコアを活用し、インタプリタを子プロセスとして並列に実行する<br>\n",
    "子プロセスは、メインのインタプリタとは別になっているのでGILも別になっている<br>\n",
    "\n",
    "\n",
    "\n",
    "複数のスレッド、プロセスを扱うことを目的としている。<br>\n",
    "\n",
    "\n",
    "#### max_workers\n",
    "同時に実行可能なタスクの最大数を指定する。<br/>\n",
    "同時実行可能数より多いタスクの実行を要求すると、タスクはキューに追加されて他のタスクの終了を待ってから順次実行する。<br/>\n"
   ]
  },
  {
   "cell_type": "markdown",
   "metadata": {},
   "source": [
    "## ThreadPoolExecutor\n",
    "\n",
    "- スレッドを使って並列タスクを実行する\n",
    "- ネットワークアクセスなどCPUに負荷がかからない処理の並列実行に適している\n",
    "\n",
    "\n",
    "\n",
    "effective python p.146「スレッドプールの開始や通信のオーバーヘッドのために、かえって遅くなりました」"
   ]
  },
  {
   "cell_type": "markdown",
   "metadata": {},
   "source": [
    "## ProcessPoolExecutor\n",
    "\n",
    "- プロセスを使って並列タスクを実行する\n",
    "- CPUに負荷がかかる計算処理などの並列実行に適している\n",
    "\n",
    "### 注意点\n",
    "https://qiita.com/kokumura/items/2e3afc1034d5aa7c6012\n",
    "> -  ProcessPoolExecutorはプロセス間通信によって実現しているため、いくつか制限がある。\n",
    "    - 関数の引数および戻り値は、pickleを使ってシリアライズ可能なオブジェクトでなければならない。\n",
    "    - 関数自体もプロセス間で渡せなければならない。インスタンスメソッドはだめ。ラムダ式はOK。\n",
    "    - 関数の中で副作用としてグローバル変数を書き換えるなどしても、呼び元のプロセスには反映されない。\n",
    "\n",
    "\n"
   ]
  },
  {
   "cell_type": "markdown",
   "metadata": {},
   "source": [
    "# AsyncIO"
   ]
  },
  {
   "cell_type": "markdown",
   "metadata": {},
   "source": [
    "# subprocess\n",
    "\n",
    "子プロセスを作る。子プロセスは親プロセスのPythonインタプリタとは独立に実行される。\n",
    "\n",
    "## 参考\n",
    "Effective Python p.117"
   ]
  },
  {
   "cell_type": "markdown",
   "metadata": {},
   "source": [
    "# Queue\n",
    "\n",
    "スレッド間の協調作業。<br/>\n",
    "プロセス間でも協調作業。"
   ]
  },
  {
   "cell_type": "markdown",
   "metadata": {},
   "source": [
    "# わからんこと\n",
    "- ブロッキングIO\n",
    "- コルーチン\n",
    "- ライフゲーム\n",
    "- プロキシ\n",
    "- アトミック演算\n",
    "- ロック\n",
    "- シリアライズ、デシリアライズ\n",
    "- スループット\n",
    "- ワーカースレッド\n",
    "- ワーカープロセス\n",
    "- 内部的なプール"
   ]
  },
  {
   "cell_type": "markdown",
   "metadata": {},
   "source": [
    "# 参考\n",
    "\n",
    "\n",
    "- https://qiita.com/tag1216/items/db5adcf1ddcb67cfefc8\n",
    "- https://qiita.com/kokumura/items/2e3afc1034d5aa7c6012\n",
    "\n",
    "- FluentPythonP.532flagのダウンロードのyoutubeリンク\n",
    " - https://www.youtube.com/watch?v=A9e9Cy1UkME\n",
    " \n",
    "- "
   ]
  },
  {
   "cell_type": "code",
   "execution_count": null,
   "metadata": {},
   "outputs": [],
   "source": []
  }
 ],
 "metadata": {
  "kernelspec": {
   "display_name": "Python 3",
   "language": "python",
   "name": "python3"
  },
  "language_info": {
   "codemirror_mode": {
    "name": "ipython",
    "version": 3
   },
   "file_extension": ".py",
   "mimetype": "text/x-python",
   "name": "python",
   "nbconvert_exporter": "python",
   "pygments_lexer": "ipython3",
   "version": "3.6.4"
  },
  "toc": {
   "base_numbering": 1,
   "nav_menu": {},
   "number_sections": true,
   "sideBar": true,
   "skip_h1_title": false,
   "title_cell": "Table of Contents",
   "title_sidebar": "Contents",
   "toc_cell": true,
   "toc_position": {
    "height": "47px",
    "left": "58px",
    "top": "187.5px",
    "width": "165px"
   },
   "toc_section_display": true,
   "toc_window_display": false
  }
 },
 "nbformat": 4,
 "nbformat_minor": 2
}
