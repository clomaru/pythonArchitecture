{
 "cells": [
  {
   "cell_type": "markdown",
   "metadata": {},
   "source": [
    "# ソースコードリーディングまとめ"
   ]
  },
  {
   "cell_type": "markdown",
   "metadata": {},
   "source": [
    "# 大まかな手順"
   ]
  },
  {
   "cell_type": "markdown",
   "metadata": {},
   "source": [
    "## コアの部分から読む(mainとか)\n",
    "\n",
    "プログラムがどのように動いているか考えながら読む。  \n",
    "ソースコードの半分以上はオプションが指定されたときの処理か、エラーが発せいたときの処理。  \n",
    "最初は「オプション処理してるな」位の感覚でそれ以上深入りしない。  \n",
    "\n",
    "\n",
    "こういうプログラムならこういう手順で行われているだろう」といった、大まかな流れがわかっていると良い。  \n",
    "そうすると、関数名を読むだけでも、だいたい何やっているかわかったりする。  \n",
    "\n",
    "\n",
    "とりあえず全部流し見する。  \n",
    "どんな関数やクラスがあるのか、この作者はどのような感じのプログラムを書くのかなどの傾向を把握する  \n",
    "\n",
    "コメントは読みましょう  \n",
    "\n",
    "速く読もうと意識して読むのが良い.  \n",
    "速く読もうとしなければ速く読めるようにはならない  \n",
    "\n",
    "読むときに仮設と検証を行う  \n",
    "\n",
    "\n",
    "## メソッドの最終行に注目する\n",
    "オブジェクト指向のプログラムは、メソッドの前半に実行に必要な変数などの下処理を行い、  \n",
    "後半に実際に実行処理を行うケースが多いから。  jj\n",
    "\n",
    "\n",
    "\n",
    "## コードにコメントを追加する\n",
    "コメントを追加しながら読む  \n",
    "理解とともにコメントは増やしていく  \n",
    "\n",
    "\n",
    "\n",
    "## アノテーションコメントを残す\n",
    "解決すべき課題、確認すべき仕様、改善すべき箇所などは # TODO: など、アノテーションコメントを残す\n",
    "\n",
    "\n",
    "## ファイル配置を手がかりにする\n",
    "ソフトウェアの種類によっては、典型的なファイル配置が決まっていることがある  \n",
    "なのでそのディレクトリ構成やファイル名を辿ることで全体像をつかむことができる  "
   ]
  },
  {
   "cell_type": "markdown",
   "metadata": {},
   "source": [
    "## ドキュメントを読む\n",
    "\n",
    "ドキュメントを読むことで、内部構造を理解する。  \n",
    "\n",
    "## issueを読む\n",
    "## ログを読む"
   ]
  },
  {
   "cell_type": "markdown",
   "metadata": {},
   "source": [
    "## 動かして確認する\n",
    "\n",
    "デバッガ、ログなどを活用する"
   ]
  },
  {
   "cell_type": "markdown",
   "metadata": {},
   "source": [
    "## ライブラリの呼び出しを確認する\n",
    "\n",
    "外部ライブラリを使っている場合、そのライブラリの呼出を検証したり、そのライブラリのドキュメントを読む。  \n"
   ]
  },
  {
   "cell_type": "markdown",
   "metadata": {},
   "source": [
    "## 図を描く\n",
    "\n",
    "処理の流れ、状態など複雑な部分に関しては図を描いておく\n",
    "\n",
    "\n",
    "- クラス図\n",
    "- シーケン図\n",
    "など"
   ]
  },
  {
   "cell_type": "markdown",
   "metadata": {},
   "source": [
    "## ドメインの用語を書き溜めておく\n",
    "\n",
    "\n",
    "その界隈の用語などはまとめておくと便利"
   ]
  },
  {
   "cell_type": "markdown",
   "metadata": {},
   "source": [
    "## 感覚的理解\n",
    "\n",
    "### 視覚\n",
    "- エディタが出力する細かいアイコンに敏感になる\n",
    "- コードを高速にスクロールすることでコードを印象で把握する\n",
    "\n",
    "### 聴覚\n",
    "- クラス名やメソッド名を読み上げることで聴覚を使う\n",
    "- コードに対する印象を口に出す\n",
    "\n",
    "## 理解の三段階\n",
    "- コードを見る\n",
    " - 見るだけで、内容について考えない\n",
    "- コードを読む\n",
    " - ある程度気をつけて読むが適切に理解しているわけではないレベル\n",
    " - オブジェクト間のインタラクションにあまり気を使わない\n",
    "- コードを理解する\n",
    " - 処理構造やライフサイクルを厳密に把握しているレベル\n",
    " - 主要な部分に関しては暗記し、会議中脳内にコードを展開できるレベル\n",
    " \n"
   ]
  },
  {
   "cell_type": "markdown",
   "metadata": {},
   "source": [
    "# なんか"
   ]
  },
  {
   "cell_type": "markdown",
   "metadata": {},
   "source": [
    "## Pythonの場合\n",
    "\n",
    "そのファイルに出てきている名前(関数名、変数名)は必ずそのファイル内に存在している。  \n",
    "https://qiita.com/junjis0203/items/5a17f7bbca9480a5e835\n"
   ]
  },
  {
   "cell_type": "markdown",
   "metadata": {},
   "source": [
    "# ツール"
   ]
  },
  {
   "cell_type": "markdown",
   "metadata": {},
   "source": [
    "## めも\n",
    "atomで以下のような機能をもつパッケージを探す\n",
    "\n",
    "\n",
    "- 呼び出し元メソッド参照\n",
    "- 呼び出し先メソッド参照\n",
    "- 継承リスト参照\n",
    "- 基底クラス参照\n",
    "- インターフェースの実装クラス参照\n",
    "- オーバーライド元のメソッド参照"
   ]
  },
  {
   "cell_type": "markdown",
   "metadata": {},
   "source": [
    "## grepコマンド\n",
    "\n",
    "`-r`でディレクトリ内も検索\n",
    "`$ grep <word> <directory-name> -r`\n",
    "\n",
    "atomのshift-cmd-fでいい"
   ]
  },
  {
   "cell_type": "markdown",
   "metadata": {},
   "source": [
    "## findコマンド\n",
    "\n",
    ">find は指定ディレクトリから条件にマッチするファイルやディレクトリを検索できます。 slocate と似ていますがデータベースがいらないので目的のファイルをいつでも探しだすことが可能です。ただし処理速度は遅いです。  \n",
    "find には強力なオプションがいくつもあるのですがコードリーディングに用いるなら「ファイル名にXXXを含むファイルを探したい」というときに便利です。  \n",
    "\n",
    "\n",
    "## diffコマンド\n",
    "２つのファイルの違いを探す"
   ]
  },
  {
   "cell_type": "markdown",
   "metadata": {},
   "source": [
    "## slocate\n",
    "\n",
    "slocate はあらかじめ作成されたシステム上のファイル一覧データベースから、指定した文字を含むファイルやディレクトリを検索して表示してくれます。"
   ]
  },
  {
   "cell_type": "markdown",
   "metadata": {},
   "source": [
    "## quick-highlight\n",
    "\n",
    "atomパッケージ  \n",
    "同時検索ハイライトができる  \n",
    "https://qiita.com/t9md/items/a529b06e26cc9fe33f70\n",
    "\n",
    "\n",
    "## try@0.2.5\n",
    "atomパッケージ  \n",
    "選択範囲を決まったファイルに貼り付ける\n",
    ">コード・リーディング時の不明点解消(動かして理解)や、ライティング時の試行錯誤。\n",
    "  無いとやっていけない。"
   ]
  },
  {
   "cell_type": "markdown",
   "metadata": {},
   "source": [
    "## rexdep\n",
    "https://itchyny.hatenablog.com/entry/2015/11/19/100000  \n",
    "\n",
    "\n",
    "プロジェクト内の依存関係を可視化\n",
    "\n",
    "\n",
    "### インストール\n",
    "brew install itchyny/rexdep/rexdep\n",
    "\n",
    "### 実行\n",
    "git clone --depth 1 https://github.com/pallets/flask.git\n",
    "cd flask/flask\n",
    "rexdep --pattern 'import +(\\S+)' --format dot flask/*.py | dot -Tpng -o test.png\n"
   ]
  },
  {
   "cell_type": "markdown",
   "metadata": {},
   "source": [
    "## Doxygen\n",
    "\n",
    "ドキュメント自動生成ツール\n",
    "\n",
    "### インストール\n",
    "brew install doxygen\n",
    "\n",
    "### 実行\n",
    "doxygen -g\n",
    "\n",
    "\n",
    "\n",
    "## Graphviz\n",
    "構造体やクラス間の関係を図で出力してくれる\n",
    "\n",
    "### インストール\n",
    "brew install graphviz\n",
    "\n",
    "http://kinokoru.jp/archives/399  \n",
    "http://momijiame.tumblr.com/post/23166110981/%E3%82%BD%E3%83%BC%E3%82%B9%E3%82%B3%E3%83%BC%E3%83%89%E3%82%92%E8%AA%AD%E3%82%80%E3%81%AE%E3%81%AB-doxygen-graphviz-%E3%81%8C%E4%BE%BF%E5%88%A9%E3%81%AA%E4%BB%B6  "
   ]
  },
  {
   "cell_type": "markdown",
   "metadata": {},
   "source": [
    "## pycco\n",
    "http://d.hatena.ne.jp/sasaplus1/20120221/1329830629  \n",
    "コメントとコードからドキュメントを作成してくれる"
   ]
  },
  {
   "cell_type": "markdown",
   "metadata": {},
   "source": [
    "## Koders\n",
    "\n",
    "ソースコードを検索対象とする検索エンジン\n",
    "\n",
    "## Krugle\n",
    "\n",
    "ソースコードを検索対象とする検索エンジン　　\n",
    "関連ドキュメントやプロジェクトの検索も行える.  "
   ]
  },
  {
   "cell_type": "markdown",
   "metadata": {},
   "source": [
    "## type.shadowfacts.net\n",
    "コードリーディングしながらタイピングの練習ができるサイト  \n",
    "https://type.shadowfacts.net/\n",
    "\n",
    "かんたんな使い方  \n",
    "https://qiita.com/daisukeokaoss/items/a67ca651646842b2584b"
   ]
  },
  {
   "cell_type": "markdown",
   "metadata": {},
   "source": [
    "# コードリーディングのためのエディタ環境\n",
    "\n",
    "\n",
    "## 最低限必要な機能\n",
    "- シンタックスハイライト\n",
    "- フォント\n",
    " - 等幅\n",
    " - l,I,1やO,0の区別がし易いもの\n",
    "- タグジャンプ\n",
    "- ブックマーク\n",
    "- 自動フォーマット\n",
    "- grepツール\n",
    "- SCMクライアント\n",
    "\n",
    "## Atom\n",
    "\n",
    "- goto-definition\n",
    " - 定義元へ移動\n",
    "- symbols-tree-view\n",
    " - そのファイル内のメソッド一覧などを表示\n",
    " - ctrl-alt-o\n",
    "\n",
    "\n",
    "## Vim \n",
    "- ctags\n",
    " - 定義元へ移動\n",
    "- gtags\n",
    " - 参照元へ移動\n"
   ]
  },
  {
   "cell_type": "markdown",
   "metadata": {},
   "source": [
    "# 参考\n",
    "\n",
    "★★★https://gist.github.com/taichi/2693387  \n",
    "http://d.hatena.ne.jp/torazuka/20100222/scrws  \n",
    "http://i.loveruby.net/ja/misc/readingcode.html"
   ]
  },
  {
   "cell_type": "code",
   "execution_count": null,
   "metadata": {},
   "outputs": [],
   "source": []
  },
  {
   "cell_type": "code",
   "execution_count": null,
   "metadata": {},
   "outputs": [],
   "source": []
  }
 ],
 "metadata": {
  "kernelspec": {
   "display_name": "Python 3",
   "language": "python",
   "name": "python3"
  },
  "language_info": {
   "codemirror_mode": {
    "name": "ipython",
    "version": 3
   },
   "file_extension": ".py",
   "mimetype": "text/x-python",
   "name": "python",
   "nbconvert_exporter": "python",
   "pygments_lexer": "ipython3",
   "version": "3.6.4"
  },
  "toc": {
   "base_numbering": 1,
   "nav_menu": {},
   "number_sections": true,
   "sideBar": true,
   "skip_h1_title": false,
   "title_cell": "Table of Contents",
   "title_sidebar": "Contents",
   "toc_cell": false,
   "toc_position": {},
   "toc_section_display": true,
   "toc_window_display": false
  }
 },
 "nbformat": 4,
 "nbformat_minor": 2
}
